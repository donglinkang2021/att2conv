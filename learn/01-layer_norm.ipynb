{
 "cells": [
  {
   "cell_type": "code",
   "execution_count": 1,
   "metadata": {},
   "outputs": [
    {
     "name": "stdout",
     "output_type": "stream",
     "text": [
      "Input data:\n",
      " torch.Size([32, 1000])\n",
      "Output data after Layernorm:\n",
      " torch.Size([32, 100])\n"
     ]
    }
   ],
   "source": [
    "import torch\n",
    "import torch.nn as nn\n",
    "\n",
    "# 定义一个简单的神经网络层\n",
    "class SimpleLayer(nn.Module):\n",
    "    def __init__(self, input_size, output_size):\n",
    "        super(SimpleLayer, self).__init__()\n",
    "        self.linear = nn.Linear(input_size, output_size)\n",
    "        self.layernorm = nn.LayerNorm(output_size)\n",
    "\n",
    "    def forward(self, x):\n",
    "        x = self.linear(x)\n",
    "        x = self.layernorm(x)\n",
    "        return x\n",
    "\n",
    "batch_size = 32\n",
    "input_size = 1000\n",
    "output_size = 100\n",
    "\n",
    "# 定义输入数据\n",
    "input_data = torch.randn((batch_size, input_size))\n",
    "\n",
    "# 创建 SimpleLayer 实例\n",
    "layer = SimpleLayer(input_size, output_size)\n",
    "\n",
    "# 将输入数据传递给层\n",
    "output = layer(input_data)\n",
    "\n",
    "# 打印输出结果\n",
    "print(\"Input data:\\n\", input_data.shape)\n",
    "print(\"Output data after Layernorm:\\n\", output.shape)"
   ]
  },
  {
   "cell_type": "code",
   "execution_count": 2,
   "metadata": {},
   "outputs": [
    {
     "data": {
      "text/plain": [
       "(tensor(-0.0568), tensor(0.9711))"
      ]
     },
     "execution_count": 2,
     "metadata": {},
     "output_type": "execute_result"
    }
   ],
   "source": [
    "idx = 0\n",
    "input_data[idx].mean(), input_data[idx].std()"
   ]
  },
  {
   "cell_type": "code",
   "execution_count": 3,
   "metadata": {},
   "outputs": [
    {
     "data": {
      "text/plain": [
       "(tensor(0.0693, grad_fn=<MeanBackward0>),\n",
       " tensor(0.5484, grad_fn=<StdBackward0>))"
      ]
     },
     "execution_count": 3,
     "metadata": {},
     "output_type": "execute_result"
    }
   ],
   "source": [
    "layer.linear(input_data[idx]).mean(), layer.linear(input_data[idx]).std()"
   ]
  },
  {
   "cell_type": "code",
   "execution_count": 4,
   "metadata": {},
   "outputs": [
    {
     "data": {
      "text/plain": [
       "(tensor(4.7684e-09, grad_fn=<MeanBackward0>),\n",
       " tensor(1.0050, grad_fn=<StdBackward0>))"
      ]
     },
     "execution_count": 4,
     "metadata": {},
     "output_type": "execute_result"
    }
   ],
   "source": [
    "layer(input_data[idx]).mean(), layer(input_data[idx]).std()"
   ]
  }
 ],
 "metadata": {
  "kernelspec": {
   "display_name": "d2l",
   "language": "python",
   "name": "python3"
  },
  "language_info": {
   "codemirror_mode": {
    "name": "ipython",
    "version": 3
   },
   "file_extension": ".py",
   "mimetype": "text/x-python",
   "name": "python",
   "nbconvert_exporter": "python",
   "pygments_lexer": "ipython3",
   "version": "3.9.18"
  }
 },
 "nbformat": 4,
 "nbformat_minor": 2
}
