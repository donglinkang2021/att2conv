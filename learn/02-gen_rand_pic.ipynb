{
 "cells": [
  {
   "cell_type": "code",
   "execution_count": 1,
   "metadata": {},
   "outputs": [],
   "source": [
    "import matplotlib.pyplot as plt\n",
    "import numpy as np\n",
    "import cv2\n",
    "\n",
    "def generate_and_save_images():\n",
    "    for i in range(1, 10):\n",
    "        # 生成纯色图像\n",
    "        color = np.random.rand(3,)  # 随机生成RGB颜色\n",
    "        image = np.ones((192, 192, 3)) * color * 255  # 生成192*192的三通道图像\n",
    "        image = image.astype(np.uint8)\n",
    "        # 保存图像\n",
    "        cv2.imwrite('gen/image_{}.jpg'.format(i), image)\n",
    "\n",
    "generate_and_save_images()\n"
   ]
  },
  {
   "cell_type": "code",
   "execution_count": 1,
   "metadata": {},
   "outputs": [
    {
     "data": {
      "image/jpeg": "[encoded data removed]",
      "image/png": "[encoded data removed]",
      "text/plain": [
       "<PIL.JpegImagePlugin.JpegImageFile image mode=RGB size=192x192>"
      ]
     },
     "execution_count": 1,
     "metadata": {},
     "output_type": "execute_result"
    }
   ],
   "source": [
    "import PIL.Image as Image\n",
    "\n",
    "image1 = Image.open('gen/image_1.jpg')\n",
    "image1"
   ]
  },
  {
   "cell_type": "code",
   "execution_count": 3,
   "metadata": {},
   "outputs": [
    {
     "data": {
      "text/plain": [
       "(192, 192, 3)"
      ]
     },
     "execution_count": 3,
     "metadata": {},
     "output_type": "execute_result"
    }
   ],
   "source": [
    "img_array = np.array(image1)\n",
    "img_array.shape"
   ]
  },
  {
   "cell_type": "code",
   "execution_count": 3,
   "metadata": {},
   "outputs": [
    {
     "name": "stdout",
     "output_type": "stream",
     "text": [
      "透明图像已生成并保存为 transparent_image.png\n"
     ]
    }
   ],
   "source": [
    "# 创建透明图像\n",
    "transparent_image = Image.new(\"RGBA\", (192, 192), (0, 0, 0, 20))\n",
    "\n",
    "# 保存图像为PNG文件\n",
    "transparent_image.save(\"gen/transparent_image.png\")\n",
    "\n",
    "print(\"透明图像已生成并保存为 transparent_image.png\")\n"
   ]
  }
 ],
 "metadata": {
  "kernelspec": {
   "display_name": "d2l",
   "language": "python",
   "name": "python3"
  },
  "language_info": {
   "codemirror_mode": {
    "name": "ipython",
    "version": 3
   },
   "file_extension": ".py",
   "mimetype": "text/x-python",
   "name": "python",
   "nbconvert_exporter": "python",
   "pygments_lexer": "ipython3",
   "version": "3.9.18"
  }
 },
 "nbformat": 4,
 "nbformat_minor": 2
}
